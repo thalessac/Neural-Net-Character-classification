{
 "cells": [
  {
   "cell_type": "markdown",
   "metadata": {},
   "source": [
    "# Algoritmo para resolver problema AND e OR"
   ]
  },
  {
   "cell_type": "markdown",
   "metadata": {},
   "source": [
    "O processamento realizado por um neurônio j do tipo Perceptron segue as seguintes\n",
    "regras:\n",
    "\n",
    "    y_in[j] = b[j] + SUM(x[i] * w[i][j])\n",
    "    y_j = f(y_in[j])\n",
    "\n",
    "xi são as entradas para o neurônio j ,\n",
    "wij são os pesos nas conexões entre cada entrada i e o neurônio j ,\n",
    "bj é um bias,\n",
    "y inj é a entrada total no neurônio j ,\n",
    "f (y inj ) é uma função de ativação e\n",
    "yj é a saída no neurônio j ."
   ]
  },
  {
   "cell_type": "code",
   "execution_count": 1,
   "metadata": {},
   "outputs": [],
   "source": [
    "import pandas as pd\n",
    "import numpy as np\n",
    "import os"
   ]
  },
  {
   "cell_type": "code",
   "execution_count": 2,
   "metadata": {},
   "outputs": [],
   "source": [
    "#Data inputs\n",
    "#Função para receber a entrada do conjunto de dados para treinamento do Percepton\n",
    "def data_input():\n",
    "    \n",
    "    directory = os.path.abspath(os.getcwd())\n",
    "    \n",
    "    print(\"Escolha o conjunto de dados para teste:\\n\")\n",
    "    print(\"\\t1 - AND\\n\\t2 - OR\")\n",
    "    escolha = 0\n",
    "    while escolha not in [1,2,3]:\n",
    "        try:\n",
    "            escolha = int(input(\"\\nDigite a sua opção: \"))\n",
    "            if escolha not in [1,2]:\n",
    "                print(\"Valor inválido. Escolha os valores 1 ou 2...\")\n",
    "        except ValueError:\n",
    "            print(\"Valor inválido. Escolha os valores 1 ou 2...\")\n",
    "            \n",
    "    if escolha == 1:\n",
    "        df = pd.read_csv(directory + \"\\Conjunto de dados\\ProblemAND.csv\", header = None)\n",
    "    elif escolha == 2:\n",
    "         df = pd.read_csv(directory + \"\\Conjunto de dados\\ProblemOR.csv\", header = None)\n",
    "    \n",
    "    return df, escolha;"
   ]
  },
  {
   "cell_type": "code",
   "execution_count": 3,
   "metadata": {},
   "outputs": [],
   "source": [
    "##Algoritmo de treinamento\n",
    "\n",
    "def activation_function(y_in, thres):\n",
    "    if y_in > thres:\n",
    "        return 1\n",
    "    return 0\n",
    "\n",
    "def training_algorithm(dataset, thres):\n",
    "    #Based on Fausset p.61\n",
    "    \n",
    "    #Initialize weights and bias\n",
    "    n = len(dataset.columns) - 1 #Numero de atributos descritivos. Considerar apenas colunas com xi (a última coluna é rótulo)\n",
    "    s_n = len(dataset.index) #Number of training pairs (= number of rows from dataset)\n",
    "        \n",
    "    #For simplicity, set weight and bias to zero\n",
    "    b = 0\n",
    "    w = np.zeros(n)\n",
    "    \n",
    "    #Set learning rate a (0 < a <= 1)\n",
    "    a = 1\n",
    "    \n",
    "    #Create variables for training pair s and t:\n",
    "    s = dataset.iloc[:, 0:n].copy().values #Atributos\n",
    "    t = list(dataset.iloc[:, n].copy()) #Target (Rótulo)\n",
    "        \n",
    "    #While stopping condition is false\n",
    "    stop = False\n",
    "    while (stop == False):\n",
    "        \n",
    "        changed_vector = [] #Vetor que irá armazenar a variação dos pesos e bias em cada época\n",
    "               \n",
    "        #For each training pair s:t,\n",
    "        for k in range(s_n): #O laço for computa uma época\n",
    "                                \n",
    "            #Set activations of input units:\n",
    "            x = s[k].copy()\n",
    "                       \n",
    "            #Compute responses of output unit:\n",
    "            \n",
    "            y_in = b + np.dot(x, w)\n",
    "            \n",
    "            y = activation_function(y_in, thres)\n",
    "                                    \n",
    "            #Update weights and bias if an error ocurred for this pattern\n",
    "            if y != t[k]:\n",
    "                w = w + a*(t[k]-y)*x\n",
    "                b = b + a*(t[k]-y)\n",
    "                changed_aux = np.append(a*(t[k]-y)*x, a*(t[k]-y)) #Variação nos pesos para um determinado input\n",
    "            else:\n",
    "                #Não há mudança nos pesos e bias. Variação é igual a zero\n",
    "                changed_aux = np.zeros(n+1)\n",
    "            changed_vector = np.append(changed_vector, changed_aux)\n",
    "          \n",
    "        #Test stopping condition\n",
    "        if np.all(changed_vector == 0): #Comando para verificar se todas as mudanças da época foram nulas\n",
    "            #If no weights changed, stop\n",
    "            stop = True\n",
    "        #else:\n",
    "            #Continue\n",
    "    return w, b;"
   ]
  },
  {
   "cell_type": "code",
   "execution_count": 4,
   "metadata": {},
   "outputs": [],
   "source": [
    "def application_procedure(w, b, thres, inputs):\n",
    "    #Get weights and bias from training algorithm --> parameters w and b of this function\n",
    "    #dataset --> \n",
    "    \n",
    "    #Set activation of inputs\n",
    "    s_n = len(inputs) #Number of inputs (= number of rows from dataset)\n",
    "    \n",
    "    categorias =[]\n",
    "    \n",
    "    for k in range (s_n):\n",
    "        #Compute response of output unit\n",
    "        \n",
    "        x = inputs[k].copy()\n",
    "        \n",
    "        y_in = b + np.dot(x, w)\n",
    "        y = activation_function(y_in, thres)\n",
    "        \n",
    "        categorias.append(y)\n",
    "    \n",
    "    return categorias;"
   ]
  },
  {
   "cell_type": "code",
   "execution_count": 5,
   "metadata": {},
   "outputs": [
    {
     "name": "stdout",
     "output_type": "stream",
     "text": [
      "Escolha o conjunto de dados para teste:\n",
      "\n",
      "\t1 - AND\n",
      "\t2 - OR\n",
      "\n",
      "Digite a sua opção: 1\n",
      "\n",
      "expected results:  [1, 0, 0, 0]\n",
      "results:  [1, 0, 0, 0]\n"
     ]
    }
   ],
   "source": [
    "dataset, escolha = data_input()\n",
    "thres = 0\n",
    "\n",
    "w, b = training_algorithm(dataset, thres)\n",
    "\n",
    "inputs = [[1,1], [1,-1], [-1, 1], [-1,-1]]\n",
    "\n",
    "if escolha == 1: #AND\n",
    "    expected_results = [1, 0, 0, 0]\n",
    "elif escolha ==2: #OR\n",
    "    expected_results = [1, 1, 1, 0]\n",
    "    \n",
    "cat = application_procedure(w, b, thres, inputs)\n",
    "\n",
    "print(\"\\nexpected results: \", expected_results)\n",
    "print(\"results: \", cat)"
   ]
  },
  {
   "cell_type": "code",
   "execution_count": null,
   "metadata": {},
   "outputs": [],
   "source": []
  },
  {
   "cell_type": "code",
   "execution_count": null,
   "metadata": {},
   "outputs": [],
   "source": []
  }
 ],
 "metadata": {
  "kernelspec": {
   "display_name": "Python 3",
   "language": "python",
   "name": "python3"
  },
  "language_info": {
   "codemirror_mode": {
    "name": "ipython",
    "version": 3
   },
   "file_extension": ".py",
   "mimetype": "text/x-python",
   "name": "python",
   "nbconvert_exporter": "python",
   "pygments_lexer": "ipython3",
   "version": "3.7.6"
  }
 },
 "nbformat": 4,
 "nbformat_minor": 4
}
